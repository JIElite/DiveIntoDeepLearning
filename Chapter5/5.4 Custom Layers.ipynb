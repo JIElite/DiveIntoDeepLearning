{
 "cells": [
  {
   "cell_type": "markdown",
   "id": "81816ad7-2a31-4d61-9a5c-b698e6c23e6c",
   "metadata": {},
   "source": [
    "Design a layer that takes an input and computes a tensor reduction, \n",
    "i.e., it returns $ y_k = \\sum_{i, j}W_{i, j, k}*x_i*x_j$"
   ]
  },
  {
   "cell_type": "code",
   "execution_count": 1,
   "id": "a22f8f4e-b24e-4252-9c71-4ea9c90c1b70",
   "metadata": {},
   "outputs": [],
   "source": [
    "import torch\n",
    "from torch import nn\n",
    "import ipdb\n",
    "\n",
    "\n",
    "class Layer(nn.Module):\n",
    "    def __init__(self, N_X):\n",
    "        super().__init__()\n",
    "        self.weight = nn.ParameterList()\n",
    "        for i in range(N_X):\n",
    "            self.weight.append(nn.Parameter(torch.randn(N_X, N_X)))\n",
    "    \n",
    "    def forward(self, x):\n",
    "        y = torch.zeros_like(x)\n",
    "        for i in range(x.shape[-1]):\n",
    "            temp = torch.matmul(x, self.weight[i]) @ x.T\n",
    "            y[:, i] = temp.diagonal()\n",
    "        return y\n",
    "    \n",
    "    def f2(self, x):\n",
    "        y = torch.zeros_like(x)\n",
    "        for i in range(x.shape[-1]):\n",
    "            temp = torch.matmul(x, self.weight[i]) @ x.T\n",
    "            y[:, i] = temp\n",
    "        return y"
   ]
  },
  {
   "cell_type": "code",
   "execution_count": 35,
   "id": "fd552d05-6f49-40de-a95f-5f75158fdf80",
   "metadata": {},
   "outputs": [],
   "source": [
    "class Layer(nn.Module):\n",
    "    def __init__(self, N_X):\n",
    "        super().__init__()\n",
    "        self.weight = nn.Parameter(torch.randn(N_X, N_X, N_X))\n",
    "    \n",
    "    def forward(self, x):\n",
    "        y = torch.zeros_like(x)\n",
    "        for i in range(x.shape[-1]):\n",
    "            temp = torch.matmul(x, self.weight[i]) @ x.T\n",
    "            y[:, i] = temp.diagonal()\n",
    "        return y\n",
    "    \n",
    "    def forward2(self, x):\n",
    "        y = torch.zeros_like(x)\n",
    "        temp = []\n",
    "        for k in range(x.shape[-1]):\n",
    "            temp.append(torch.matmul(x, self.weight[k]).unsqueeze(0))\n",
    "        \n",
    "        XW = torch.cat(temp, 0).permute((1, 0, 2))\n",
    "        # return torch.bmm(XW, x.unsqueeze(-1)).squeeze(-1)\n",
    "        return torch.bmm(x.unsqueeze(-1), XW)\n",
    "        "
   ]
  },
  {
   "cell_type": "code",
   "execution_count": 36,
   "id": "d6c161b6-a949-4752-ace6-26765ff22856",
   "metadata": {},
   "outputs": [],
   "source": [
    "x = torch.randn(6, 5) # batch size = 6, vector size = 5\n",
    "layer = Layer(N_X=x.shape[-1])"
   ]
  },
  {
   "cell_type": "code",
   "execution_count": 37,
   "id": "2d0e3977-9e4f-4b0a-928c-bc5f36f3bf6d",
   "metadata": {},
   "outputs": [
    {
     "data": {
      "text/plain": [
       "tensor([[ 2.5567,  2.6389, -0.1946, -0.8198, -0.0288],\n",
       "        [12.0310,  6.3414,  4.6771, -6.4617, -3.1266],\n",
       "        [-2.1877,  0.8401, -6.0424,  0.1496, -4.2321],\n",
       "        [-7.9314,  7.3181, -8.2289, -5.1077, -6.6133],\n",
       "        [ 0.3866, -7.9606,  2.3280,  0.3991,  2.0963],\n",
       "        [ 0.1102, -0.2769,  1.1766, -4.1417,  0.4034]], grad_fn=<CopySlices>)"
      ]
     },
     "execution_count": 37,
     "metadata": {},
     "output_type": "execute_result"
    }
   ],
   "source": [
    "layer(x)"
   ]
  },
  {
   "cell_type": "code",
   "execution_count": 38,
   "id": "92eee89e-f82a-4973-9176-e22ef75cdc7f",
   "metadata": {},
   "outputs": [
    {
     "ename": "RuntimeError",
     "evalue": "Expected batch2_sizes[0] == bs && batch2_sizes[1] == contraction_size to be true, but got false.  (Could this error message be improved?  If so, please report an enhancement request to PyTorch.)",
     "output_type": "error",
     "traceback": [
      "\u001b[0;31m---------------------------------------------------------------------------\u001b[0m",
      "\u001b[0;31mRuntimeError\u001b[0m                              Traceback (most recent call last)",
      "\u001b[0;32m/tmp/ipykernel_37073/1850619235.py\u001b[0m in \u001b[0;36m<module>\u001b[0;34m\u001b[0m\n\u001b[0;32m----> 1\u001b[0;31m \u001b[0mr\u001b[0m \u001b[0;34m=\u001b[0m \u001b[0mlayer\u001b[0m\u001b[0;34m.\u001b[0m\u001b[0mforward2\u001b[0m\u001b[0;34m(\u001b[0m\u001b[0mx\u001b[0m\u001b[0;34m)\u001b[0m\u001b[0;34m\u001b[0m\u001b[0;34m\u001b[0m\u001b[0m\n\u001b[0m",
      "\u001b[0;32m/tmp/ipykernel_37073/1698570946.py\u001b[0m in \u001b[0;36mforward2\u001b[0;34m(self, x)\u001b[0m\n\u001b[1;32m     19\u001b[0m         \u001b[0mXW\u001b[0m \u001b[0;34m=\u001b[0m \u001b[0mtorch\u001b[0m\u001b[0;34m.\u001b[0m\u001b[0mcat\u001b[0m\u001b[0;34m(\u001b[0m\u001b[0mtemp\u001b[0m\u001b[0;34m,\u001b[0m \u001b[0;36m0\u001b[0m\u001b[0;34m)\u001b[0m\u001b[0;34m.\u001b[0m\u001b[0mpermute\u001b[0m\u001b[0;34m(\u001b[0m\u001b[0;34m(\u001b[0m\u001b[0;36m1\u001b[0m\u001b[0;34m,\u001b[0m \u001b[0;36m0\u001b[0m\u001b[0;34m,\u001b[0m \u001b[0;36m2\u001b[0m\u001b[0;34m)\u001b[0m\u001b[0;34m)\u001b[0m\u001b[0;34m\u001b[0m\u001b[0;34m\u001b[0m\u001b[0m\n\u001b[1;32m     20\u001b[0m         \u001b[0;31m# return torch.bmm(XW, x.unsqueeze(-1)).squeeze(-1)\u001b[0m\u001b[0;34m\u001b[0m\u001b[0;34m\u001b[0m\u001b[0;34m\u001b[0m\u001b[0m\n\u001b[0;32m---> 21\u001b[0;31m         \u001b[0;32mreturn\u001b[0m \u001b[0mtorch\u001b[0m\u001b[0;34m.\u001b[0m\u001b[0mbmm\u001b[0m\u001b[0;34m(\u001b[0m\u001b[0mx\u001b[0m\u001b[0;34m.\u001b[0m\u001b[0munsqueeze\u001b[0m\u001b[0;34m(\u001b[0m\u001b[0;34m-\u001b[0m\u001b[0;36m1\u001b[0m\u001b[0;34m)\u001b[0m\u001b[0;34m,\u001b[0m \u001b[0mXW\u001b[0m\u001b[0;34m)\u001b[0m\u001b[0;34m\u001b[0m\u001b[0;34m\u001b[0m\u001b[0m\n\u001b[0m\u001b[1;32m     22\u001b[0m \u001b[0;34m\u001b[0m\u001b[0m\n",
      "\u001b[0;31mRuntimeError\u001b[0m: Expected batch2_sizes[0] == bs && batch2_sizes[1] == contraction_size to be true, but got false.  (Could this error message be improved?  If so, please report an enhancement request to PyTorch.)"
     ]
    }
   ],
   "source": [
    "r = layer.forward2(x)"
   ]
  },
  {
   "cell_type": "code",
   "execution_count": 33,
   "id": "1a525497-1e18-452c-8fee-31ad82a8c90f",
   "metadata": {},
   "outputs": [],
   "source": [
    "W = torch.arange(8).reshape(2, 2, 2)\n",
    "x = torch.arange(4).reshape(2, 2)"
   ]
  },
  {
   "cell_type": "code",
   "execution_count": null,
   "id": "e33c28f0-b3ce-4303-a800-a57bc20cd502",
   "metadata": {},
   "outputs": [],
   "source": [
    "x.unsqueeze_(-1)"
   ]
  },
  {
   "cell_type": "code",
   "execution_count": 34,
   "id": "c9ede312-b9ad-423a-b5ef-3ea3c711a202",
   "metadata": {},
   "outputs": [
    {
     "data": {
      "text/plain": [
       "tensor([[-6.2213e+00,  5.8033e+00, -1.3973e+01,  1.5529e+01, -1.4844e+00],\n",
       "        [-5.6711e+00, -1.0704e+00,  3.0311e+00,  6.6003e-01, -1.2803e+00],\n",
       "        [-1.8824e+00,  9.1734e+00,  3.2873e+00, -4.4882e+00, -3.4511e+00],\n",
       "        [-1.4256e+01,  8.5144e+00,  8.7891e+00,  2.2176e+01, -1.9574e+00],\n",
       "        [-1.1489e+00, -4.0462e+00, -7.7269e-01,  8.4101e-01,  9.5225e-01],\n",
       "        [ 1.1632e-02, -1.5462e+00,  1.3192e+00,  9.0101e-01, -5.9758e-01]],\n",
       "       grad_fn=<SqueezeBackward1>)"
      ]
     },
     "execution_count": 34,
     "metadata": {},
     "output_type": "execute_result"
    }
   ],
   "source": [
    "r"
   ]
  },
  {
   "cell_type": "code",
   "execution_count": null,
   "id": "58c14496-f1ce-4edb-bebe-6ded5c052c98",
   "metadata": {},
   "outputs": [],
   "source": [
    "c = [torch.randn(2, 2).unsqueeze(0) for i in range(2)]"
   ]
  },
  {
   "cell_type": "code",
   "execution_count": null,
   "id": "8e5ab3a4-2271-45f2-b169-8ec77bde4ce8",
   "metadata": {},
   "outputs": [],
   "source": [
    "c"
   ]
  },
  {
   "cell_type": "code",
   "execution_count": null,
   "id": "c99ffbe3-b6f6-4584-99a2-9e22ce1425dc",
   "metadata": {},
   "outputs": [],
   "source": [
    "torch.cat(c, 0)"
   ]
  },
  {
   "cell_type": "code",
   "execution_count": null,
   "id": "7166a227-d2a5-449e-a70c-e33120e70236",
   "metadata": {},
   "outputs": [],
   "source": [
    "x = torch.randn(1, 3, 4)"
   ]
  },
  {
   "cell_type": "code",
   "execution_count": null,
   "id": "6d5159d3-c121-4c48-9d24-f757c2b21420",
   "metadata": {},
   "outputs": [],
   "source": [
    "x.permute((1, 0, 2)).shape"
   ]
  },
  {
   "cell_type": "code",
   "execution_count": null,
   "id": "7124a568-d902-447b-b056-138cc5de3fb2",
   "metadata": {},
   "outputs": [],
   "source": []
  }
 ],
 "metadata": {
  "kernelspec": {
   "display_name": "Python 3 (ipykernel)",
   "language": "python",
   "name": "python3"
  },
  "language_info": {
   "codemirror_mode": {
    "name": "ipython",
    "version": 3
   },
   "file_extension": ".py",
   "mimetype": "text/x-python",
   "name": "python",
   "nbconvert_exporter": "python",
   "pygments_lexer": "ipython3",
   "version": "3.8.11"
  }
 },
 "nbformat": 4,
 "nbformat_minor": 5
}
