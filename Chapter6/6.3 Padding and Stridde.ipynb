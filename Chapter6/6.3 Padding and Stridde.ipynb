{
 "cells": [
  {
   "cell_type": "code",
   "execution_count": 8,
   "id": "afd31557-53d5-457d-be5d-9668947ff4f6",
   "metadata": {},
   "outputs": [
    {
     "data": {
      "text/plain": [
       "tensor([[ 0.6325, -0.0200,  0.1502,  0.2168,  0.5306,  0.4227,  0.2835,  0.2535],\n",
       "        [ 0.2797,  0.6459,  0.4178, -0.5445, -0.1599,  0.3314,  0.5619,  0.2812],\n",
       "        [-0.1151, -0.1405,  0.8728,  1.2285, -0.6362, -0.0194,  0.4159,  0.3252],\n",
       "        [ 0.4096,  0.2215,  0.0408,  0.2065,  0.3993,  0.4869, -0.5630,  0.3183],\n",
       "        [-0.4682,  0.4263,  0.4873, -0.4721,  0.5041, -0.2604, -0.8512, -0.0478],\n",
       "        [ 0.4274,  0.8235,  0.8665,  0.2236,  0.8067,  0.2518,  0.6710,  0.1952],\n",
       "        [ 0.0162,  0.2725,  0.7123,  1.3524,  0.0953, -0.4348,  0.5510,  0.4489],\n",
       "        [-0.1924, -0.8104, -0.8135,  1.0543,  0.3457,  0.2324,  0.0789,  0.1062]],\n",
       "       grad_fn=<ViewBackward>)"
      ]
     },
     "execution_count": 8,
     "metadata": {},
     "output_type": "execute_result"
    }
   ],
   "source": [
    "import torch\n",
    "from torch import nn\n",
    "\n",
    "def comp_conv2d(conv2d, X):\n",
    "    X = X.reshape((1, 1) + X.shape)\n",
    "    Y = conv2d(X)\n",
    "    return Y.reshape(Y.shape[2:])\n",
    "\n",
    "conv2d = nn.Conv2d(1, 1, kernel_size=3, padding=1)\n",
    "X = torch.randn((8, 8))\n",
    "Y = comp_conv2d(conv2d, X)\n",
    "Y"
   ]
  },
  {
   "cell_type": "code",
   "execution_count": 9,
   "id": "2d363cbd-58a6-493a-bb03-ca511275ad16",
   "metadata": {},
   "outputs": [
    {
     "data": {
      "text/plain": [
       "(1, 1, 2, 2)"
      ]
     },
     "execution_count": 9,
     "metadata": {},
     "output_type": "execute_result"
    }
   ],
   "source": [
    "(1, 1) + (2, 2)"
   ]
  },
  {
   "cell_type": "code",
   "execution_count": 3,
   "id": "8741d90a-d46a-4d00-8fb2-11bd798c482b",
   "metadata": {},
   "outputs": [
    {
     "data": {
      "text/plain": [
       "[1, 1, 2, 2]"
      ]
     },
     "execution_count": 3,
     "metadata": {},
     "output_type": "execute_result"
    }
   ],
   "source": [
    "[1, 1] + [2, 2]"
   ]
  },
  {
   "cell_type": "code",
   "execution_count": 10,
   "id": "6dbafe0d-4806-4db8-8f36-3c28cf5e0948",
   "metadata": {},
   "outputs": [
    {
     "data": {
      "text/plain": [
       "torch.Size([8, 8])"
      ]
     },
     "execution_count": 10,
     "metadata": {},
     "output_type": "execute_result"
    }
   ],
   "source": [
    "Y.shape"
   ]
  },
  {
   "cell_type": "code",
   "execution_count": 13,
   "id": "e70f2557-7161-40c6-94ec-16d47304c4d6",
   "metadata": {},
   "outputs": [
    {
     "data": {
      "text/plain": [
       "torch.Size([4, 4])"
      ]
     },
     "execution_count": 13,
     "metadata": {},
     "output_type": "execute_result"
    }
   ],
   "source": [
    "conv2d = nn.Conv2d(1, 1, kernel_size=3, padding=1, stride=2)\n",
    "Y_stride = comp_conv2d(conv2d, X)\n",
    "Y_stride.shape # (floor(8/2), floor(8/2)), which means: floor((n_h - k_h + p_h + s_h) / s_h), floor((n_w - k_w + p_w + s_w)/ s_w)"
   ]
  },
  {
   "cell_type": "code",
   "execution_count": null,
   "id": "82dc0144-18ff-49b2-8e2d-2adeb50bee65",
   "metadata": {},
   "outputs": [],
   "source": []
  }
 ],
 "metadata": {
  "kernelspec": {
   "display_name": "Python 3 (ipykernel)",
   "language": "python",
   "name": "python3"
  },
  "language_info": {
   "codemirror_mode": {
    "name": "ipython",
    "version": 3
   },
   "file_extension": ".py",
   "mimetype": "text/x-python",
   "name": "python",
   "nbconvert_exporter": "python",
   "pygments_lexer": "ipython3",
   "version": "3.8.11"
  }
 },
 "nbformat": 4,
 "nbformat_minor": 5
}
